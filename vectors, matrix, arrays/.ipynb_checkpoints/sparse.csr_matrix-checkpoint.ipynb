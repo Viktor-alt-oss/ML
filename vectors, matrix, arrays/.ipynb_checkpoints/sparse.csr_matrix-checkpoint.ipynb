{
 "cells": [
  {
   "cell_type": "code",
   "execution_count": 1,
   "id": "0fc82961-792c-4a5a-8bfb-2d3de735469c",
   "metadata": {},
   "outputs": [],
   "source": [
    "import numpy as np\n",
    "import scipy "
   ]
  },
  {
   "cell_type": "code",
   "execution_count": 2,
   "id": "265c4df1-c123-45f8-8d63-ca6715cf869e",
   "metadata": {},
   "outputs": [],
   "source": [
    "matrix = np.arange(0, 25).reshape(5, 5)\n",
    "n = scipy.sparse.csr_matrix(matrix) # сжатая разреженная матрица csr"
   ]
  },
  {
   "cell_type": "code",
   "execution_count": 3,
   "id": "21675ef5-c1a7-4962-8a07-7ab2a9f2fc20",
   "metadata": {},
   "outputs": [
    {
     "name": "stdout",
     "output_type": "stream",
     "text": [
      "<Compressed Sparse Row sparse matrix of dtype 'int64'\n",
      "\twith 24 stored elements and shape (5, 5)>\n",
      "  Coords\tValues\n",
      "  (0, 1)\t1\n",
      "  (0, 2)\t2\n",
      "  (0, 3)\t3\n",
      "  (0, 4)\t4\n",
      "  (1, 0)\t5\n",
      "  (1, 1)\t6\n",
      "  (1, 2)\t7\n",
      "  (1, 3)\t8\n",
      "  (1, 4)\t9\n",
      "  (2, 0)\t10\n",
      "  (2, 1)\t11\n",
      "  (2, 2)\t12\n",
      "  (2, 3)\t13\n",
      "  (2, 4)\t14\n",
      "  (3, 0)\t15\n",
      "  (3, 1)\t16\n",
      "  (3, 2)\t17\n",
      "  (3, 3)\t18\n",
      "  (3, 4)\t19\n",
      "  (4, 0)\t20\n",
      "  (4, 1)\t21\n",
      "  (4, 2)\t22\n",
      "  (4, 3)\t23\n",
      "  (4, 4)\t24\n"
     ]
    }
   ],
   "source": [
    "print(n)"
   ]
  },
  {
   "cell_type": "code",
   "execution_count": null,
   "id": "039e45c2-5e35-4660-b3c6-e6f8ed863fa7",
   "metadata": {},
   "outputs": [],
   "source": []
  }
 ],
 "metadata": {
  "kernelspec": {
   "display_name": "Python 3 (ipykernel)",
   "language": "python",
   "name": "python3"
  },
  "language_info": {
   "codemirror_mode": {
    "name": "ipython",
    "version": 3
   },
   "file_extension": ".py",
   "mimetype": "text/x-python",
   "name": "python",
   "nbconvert_exporter": "python",
   "pygments_lexer": "ipython3",
   "version": "3.12.4"
  }
 },
 "nbformat": 4,
 "nbformat_minor": 5
}

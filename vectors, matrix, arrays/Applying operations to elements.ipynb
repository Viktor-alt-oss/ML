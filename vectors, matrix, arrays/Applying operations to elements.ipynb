{
 "cells": [
  {
   "cell_type": "code",
   "execution_count": 4,
   "id": "fce8eaac-d837-4841-a21b-3617746baf92",
   "metadata": {},
   "outputs": [
    {
     "data": {
      "text/plain": [
       "array([[1, 2, 3],\n",
       "       [4, 5, 6],\n",
       "       [7, 8, 9]])"
      ]
     },
     "execution_count": 4,
     "metadata": {},
     "output_type": "execute_result"
    }
   ],
   "source": [
    "import numpy as np\n",
    "matrix = np.arange(1, 10).reshape(3, 3)\n",
    "matrix"
   ]
  },
  {
   "cell_type": "code",
   "execution_count": 5,
   "id": "39564b51-f324-4d3d-9b6d-3ef77cc4ec36",
   "metadata": {},
   "outputs": [
    {
     "name": "stdout",
     "output_type": "stream",
     "text": [
      "[[102 103 104]\n",
      " [105 106 107]\n",
      " [108 109 110]]\n"
     ]
    }
   ],
   "source": [
    "operation_sum = lambda x: x + 101\n",
    "operation_sum = np.vectorize(operation_sum)\n",
    "print(operation_sum(matrix))"
   ]
  },
  {
   "cell_type": "code",
   "execution_count": 16,
   "id": "204eb44c-c169-43a3-a177-e9b70fba2d0f",
   "metadata": {},
   "outputs": [],
   "source": [
    "def debuck(x):\n",
    "    return x-1 + x"
   ]
  },
  {
   "cell_type": "code",
   "execution_count": 17,
   "id": "18a39044-efc4-40db-9128-1a799c6984ba",
   "metadata": {},
   "outputs": [
    {
     "name": "stdout",
     "output_type": "stream",
     "text": [
      "[[ 1  3  5]\n",
      " [ 7  9 11]\n",
      " [13 15 17]]\n"
     ]
    }
   ],
   "source": [
    "debuck = np.vectorize(debuck)\n",
    "print(debuck(matrix))"
   ]
  },
  {
   "cell_type": "code",
   "execution_count": 26,
   "id": "8e3b30c6-faaa-40f3-8ab1-e9e19acabadb",
   "metadata": {},
   "outputs": [
    {
     "data": {
      "text/plain": [
       "12"
      ]
     },
     "execution_count": 26,
     "metadata": {},
     "output_type": "execute_result"
    }
   ],
   "source": [
    "ma = np.arange(12).reshape(4, 3)\n",
    "ma.size"
   ]
  },
  {
   "cell_type": "code",
   "execution_count": 24,
   "id": "13fbf11a-0c09-4ac7-86ca-6d55b0b85d79",
   "metadata": {},
   "outputs": [
    {
     "data": {
      "text/plain": [
       "array([[ 0,  1,  2,  3,  4,  5],\n",
       "       [ 6,  7,  8,  9, 10, 11]])"
      ]
     },
     "execution_count": 24,
     "metadata": {},
     "output_type": "execute_result"
    }
   ],
   "source": [
    "ma.reshape(2, 6)"
   ]
  },
  {
   "cell_type": "code",
   "execution_count": null,
   "id": "eae7cfc0-3a6b-4419-bfef-8d721997e85c",
   "metadata": {},
   "outputs": [],
   "source": [
    "matrix_2 ="
   ]
  }
 ],
 "metadata": {
  "kernelspec": {
   "display_name": "Python 3 (ipykernel)",
   "language": "python",
   "name": "python3"
  },
  "language_info": {
   "codemirror_mode": {
    "name": "ipython",
    "version": 3
   },
   "file_extension": ".py",
   "mimetype": "text/x-python",
   "name": "python",
   "nbconvert_exporter": "python",
   "pygments_lexer": "ipython3",
   "version": "3.12.4"
  }
 },
 "nbformat": 4,
 "nbformat_minor": 5
}

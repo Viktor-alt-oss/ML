{
 "cells": [
  {
   "cell_type": "code",
   "execution_count": 1,
   "id": "a5466f09-5aa9-4258-8009-3af454ef8a4a",
   "metadata": {},
   "outputs": [],
   "source": [
    "# Загрузить библиотеку\n",
    "import numpy as np\n",
    "# Создать два вектора\n",
    "vector_a = np.array([1,2,3])\n",
    "vector_b = np.array([4,5,6])"
   ]
  },
  {
   "cell_type": "code",
   "execution_count": 2,
   "id": "419d9637-af95-4e3f-81b9-0bc9df35e41a",
   "metadata": {},
   "outputs": [
    {
     "data": {
      "text/plain": [
       "np.int64(32)"
      ]
     },
     "execution_count": 2,
     "metadata": {},
     "output_type": "execute_result"
    }
   ],
   "source": [
    "np.dot(vector_a, vector_b)"
   ]
  },
  {
   "cell_type": "code",
   "execution_count": null,
   "id": "b7467b5a-7547-4b4b-bb41-fedd49a558a6",
   "metadata": {},
   "outputs": [],
   "source": []
  }
 ],
 "metadata": {
  "kernelspec": {
   "display_name": "Python 3 (ipykernel)",
   "language": "python",
   "name": "python3"
  },
  "language_info": {
   "codemirror_mode": {
    "name": "ipython",
    "version": 3
   },
   "file_extension": ".py",
   "mimetype": "text/x-python",
   "name": "python",
   "nbconvert_exporter": "python",
   "pygments_lexer": "ipython3",
   "version": "3.12.4"
  }
 },
 "nbformat": 4,
 "nbformat_minor": 5
}
